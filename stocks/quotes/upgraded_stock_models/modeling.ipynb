{
 "cells": [
  {
   "cell_type": "code",
   "execution_count": 1,
   "metadata": {},
   "outputs": [],
   "source": [
    "import yfinance as yf\n",
    "import pandas as pd\n",
    "import numpy as np\n",
    "from sklearn.preprocessing import MinMaxScaler\n",
    "from keras.models import Sequential\n",
    "from keras.layers import Dense, LSTM"
   ]
  },
  {
   "cell_type": "code",
   "execution_count": 7,
   "metadata": {},
   "outputs": [],
   "source": [
    "def make_models(tickerSymbol):\n",
    " \n",
    "\n",
    "    # Get data on the ticker\n",
    "    tickerData = yf.Ticker(tickerSymbol)\n",
    "\n",
    "    # Get the historical prices for this ticker\n",
    "    tickerDf = tickerData.history(period='1d', start='2015-01-01', end='2023-04-28')\n",
    "\n",
    "    # Calculate the EMA with a window of 20 days\n",
    "    ema = tickerDf['Close'].ewm(span=20, adjust=False).mean()\n",
    "\n",
    "    # Merge the EMA with the original DataFrame\n",
    "    tickerDf = pd.concat([tickerDf, ema.rename('EMA')], axis=1)\n",
    "\n",
    "    # Define the feature and target variables\n",
    "    data = tickerDf[['Close', 'EMA']]\n",
    "    target = tickerDf['Close']\n",
    "\n",
    "    # Normalize the data using MinMaxScaler\n",
    "    scaler = MinMaxScaler(feature_range=(0, 1))\n",
    "    data_scaled = scaler.fit_transform(data)\n",
    "\n",
    "\n",
    "    # Define the number of time steps for the LSTM model\n",
    "    n_steps = 1000\n",
    "\n",
    "    # Create a function to split the data into input/output samples\n",
    "    def prepare_data(data, n_steps):\n",
    "        X, y = [], []\n",
    "        for i in range(len(data)):\n",
    "            end_ix = i + n_steps\n",
    "            if end_ix > len(data)-1:\n",
    "                break\n",
    "            seq_x, seq_y = data[i:end_ix, :], data[end_ix, 0]\n",
    "            X.append(seq_x)\n",
    "            y.append(seq_y)\n",
    "        return np.array(X), np.array(y)\n",
    "\n",
    "    # Prepare the data for the LSTM model\n",
    "    X, y = prepare_data(data_scaled, n_steps)\n",
    "\n",
    "    # Split the data into training and testing sets\n",
    "    train_size = int(len(X) * 0.8)\n",
    "    X_train, X_test = X[:train_size], X[train_size:]\n",
    "    y_train, y_test = y[:train_size], y[train_size:]\n",
    "\n",
    "    # Define the LSTM model\n",
    "    model = Sequential()\n",
    "    model.add(LSTM(units=50, return_sequences=True, input_shape=(n_steps, 2)))\n",
    "    model.add(LSTM(units=50))\n",
    "    model.add(Dense(units=1))\n",
    "\n",
    "    # Compile the model\n",
    "    model.compile(optimizer='adam', loss='mean_squared_error')\n",
    "\n",
    "    # Fit the model to the training data\n",
    "    model.fit(X_train, y_train, epochs=50, batch_size=32, verbose=0)\n",
    "\n",
    "    # Evaluate the model on the testing data\n",
    "    mse = model.evaluate(X_test, y_test, verbose=0)\n",
    "    print('Mean Squared Error:', mse)\n",
    "\n",
    "    # Save the trained model to a file\n",
    "    model.save(f'models1000\\\\{tickerSymbol.upper()}_model.h5')"
   ]
  },
  {
   "cell_type": "code",
   "execution_count": 6,
   "metadata": {},
   "outputs": [
    {
     "name": "stdout",
     "output_type": "stream",
     "text": [
      "Mean Squared Error: 0.000674326263833791\n",
      "Mean Squared Error: 0.0011096640955656767\n",
      "Mean Squared Error: 0.001282067270949483\n",
      "Mean Squared Error: 0.0009658022900111973\n",
      "Mean Squared Error: 0.0007699995767325163\n",
      "Mean Squared Error: 0.0011413744650781155\n"
     ]
    }
   ],
   "source": [
    "tickers = [\"TSLA\",\"TM\", \"MBGYY\",\"F\",\"GM\",\"HMC\"]\n",
    "for ticker in tickers:\n",
    "    make_models(ticker)"
   ]
  }
 ],
 "metadata": {
  "kernelspec": {
   "display_name": "venv",
   "language": "python",
   "name": "python3"
  },
  "language_info": {
   "codemirror_mode": {
    "name": "ipython",
    "version": 3
   },
   "file_extension": ".py",
   "mimetype": "text/x-python",
   "name": "python",
   "nbconvert_exporter": "python",
   "pygments_lexer": "ipython3",
   "version": "3.9.9"
  },
  "orig_nbformat": 4
 },
 "nbformat": 4,
 "nbformat_minor": 2
}
