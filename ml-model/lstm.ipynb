{
 "cells": [
  {
   "cell_type": "code",
   "execution_count": 1,
   "metadata": {},
   "outputs": [],
   "source": [
    "import yfinance as yf\n",
    "import pandas as pd\n",
    "import numpy as np\n",
    "from sklearn.preprocessing import MinMaxScaler\n",
    "from keras.models import Sequential\n",
    "from keras.layers import Dense, LSTM\n",
    "\n"
   ]
  },
  {
   "cell_type": "code",
   "execution_count": 2,
   "metadata": {},
   "outputs": [
    {
     "name": "stdout",
     "output_type": "stream",
     "text": [
      "Num GPUs Available:  0\n"
     ]
    }
   ],
   "source": [
    "import tensorflow as tf\n",
    "\n",
    "print(\"Num GPUs Available: \", len(tf.config.list_physical_devices('GPU')))"
   ]
  },
  {
   "cell_type": "code",
   "execution_count": 150,
   "metadata": {},
   "outputs": [],
   "source": [
    "\n",
    "# Define the ticker symbol\n",
    "tickerSymbol = 'HMC'\n",
    "\n",
    "# Get data on the ticker\n",
    "tickerData = yf.Ticker(tickerSymbol)\n",
    "\n",
    "# Get the historical prices for this ticker\n",
    "tickerDf = tickerData.history(period='1d', start='2015-01-01', end='2023-04-28')\n",
    "\n",
    "# Calculate the EMA with a window of 20 days\n",
    "ema = tickerDf['Close'].ewm(span=20, adjust=False).mean()\n",
    "\n",
    "# Merge the EMA with the original DataFrame\n",
    "tickerDf = pd.concat([tickerDf, ema.rename('EMA')], axis=1)\n",
    "\n",
    "# Define the feature and target variables\n",
    "data = tickerDf[['Close', 'EMA']]\n",
    "target = tickerDf['Close']\n",
    "\n",
    "# Normalize the data using MinMaxScaler\n",
    "scaler = MinMaxScaler(feature_range=(0, 1))\n",
    "data_scaled = scaler.fit_transform(data)\n",
    "\n"
   ]
  },
  {
   "cell_type": "code",
   "execution_count": 151,
   "metadata": {},
   "outputs": [
    {
     "data": {
      "text/html": [
       "<div>\n",
       "<style scoped>\n",
       "    .dataframe tbody tr th:only-of-type {\n",
       "        vertical-align: middle;\n",
       "    }\n",
       "\n",
       "    .dataframe tbody tr th {\n",
       "        vertical-align: top;\n",
       "    }\n",
       "\n",
       "    .dataframe thead th {\n",
       "        text-align: right;\n",
       "    }\n",
       "</style>\n",
       "<table border=\"1\" class=\"dataframe\">\n",
       "  <thead>\n",
       "    <tr style=\"text-align: right;\">\n",
       "      <th></th>\n",
       "      <th>Close</th>\n",
       "      <th>EMA</th>\n",
       "    </tr>\n",
       "    <tr>\n",
       "      <th>Date</th>\n",
       "      <th></th>\n",
       "      <th></th>\n",
       "    </tr>\n",
       "  </thead>\n",
       "  <tbody>\n",
       "    <tr>\n",
       "      <th>2015-01-02 00:00:00-05:00</th>\n",
       "      <td>24.785105</td>\n",
       "      <td>24.785105</td>\n",
       "    </tr>\n",
       "    <tr>\n",
       "      <th>2015-01-05 00:00:00-05:00</th>\n",
       "      <td>24.274158</td>\n",
       "      <td>24.736443</td>\n",
       "    </tr>\n",
       "    <tr>\n",
       "      <th>2015-01-06 00:00:00-05:00</th>\n",
       "      <td>24.140141</td>\n",
       "      <td>24.679652</td>\n",
       "    </tr>\n",
       "    <tr>\n",
       "      <th>2015-01-07 00:00:00-05:00</th>\n",
       "      <td>24.383049</td>\n",
       "      <td>24.651405</td>\n",
       "    </tr>\n",
       "    <tr>\n",
       "      <th>2015-01-08 00:00:00-05:00</th>\n",
       "      <td>24.692968</td>\n",
       "      <td>24.655363</td>\n",
       "    </tr>\n",
       "  </tbody>\n",
       "</table>\n",
       "</div>"
      ],
      "text/plain": [
       "                               Close        EMA\n",
       "Date                                           \n",
       "2015-01-02 00:00:00-05:00  24.785105  24.785105\n",
       "2015-01-05 00:00:00-05:00  24.274158  24.736443\n",
       "2015-01-06 00:00:00-05:00  24.140141  24.679652\n",
       "2015-01-07 00:00:00-05:00  24.383049  24.651405\n",
       "2015-01-08 00:00:00-05:00  24.692968  24.655363"
      ]
     },
     "execution_count": 151,
     "metadata": {},
     "output_type": "execute_result"
    }
   ],
   "source": [
    "data.head()"
   ]
  },
  {
   "cell_type": "code",
   "execution_count": 152,
   "metadata": {},
   "outputs": [],
   "source": [
    "# Define the number of time steps for the LSTM model\n",
    "n_steps = 1000\n",
    "\n",
    "# Create a function to split the data into input/output samples\n",
    "def prepare_data(data, n_steps):\n",
    "    X, y = [], []\n",
    "    for i in range(len(data)):\n",
    "        end_ix = i + n_steps\n",
    "        if end_ix > len(data)-1:\n",
    "            break\n",
    "        seq_x, seq_y = data[i:end_ix, :], data[end_ix, 0]\n",
    "        X.append(seq_x)\n",
    "        y.append(seq_y)\n",
    "    return np.array(X), np.array(y)\n",
    "\n",
    "# Prepare the data for the LSTM model\n",
    "X, y = prepare_data(data_scaled, n_steps)\n",
    "\n",
    "# Split the data into training and testing sets\n",
    "train_size = int(len(X) * 0.8)\n",
    "X_train, X_test = X[:train_size], X[train_size:]\n",
    "y_train, y_test = y[:train_size], y[train_size:]"
   ]
  },
  {
   "cell_type": "code",
   "execution_count": 153,
   "metadata": {},
   "outputs": [],
   "source": [
    "# Define the LSTM model\n",
    "model = Sequential()\n",
    "model.add(LSTM(units=50, return_sequences=True, input_shape=(n_steps, 2)))\n",
    "model.add(LSTM(units=50))\n",
    "model.add(Dense(units=1))"
   ]
  },
  {
   "cell_type": "code",
   "execution_count": 154,
   "metadata": {},
   "outputs": [],
   "source": [
    "# Compile the model\n",
    "model.compile(optimizer='adam', loss='mean_squared_error')"
   ]
  },
  {
   "cell_type": "code",
   "execution_count": 155,
   "metadata": {},
   "outputs": [
    {
     "data": {
      "text/plain": [
       "<keras.callbacks.History at 0x1968b462c10>"
      ]
     },
     "execution_count": 155,
     "metadata": {},
     "output_type": "execute_result"
    }
   ],
   "source": [
    "# Fit the model to the training data\n",
    "model.fit(X_train, y_train, epochs=50, batch_size=32, verbose=0)"
   ]
  },
  {
   "cell_type": "code",
   "execution_count": 156,
   "metadata": {},
   "outputs": [
    {
     "name": "stdout",
     "output_type": "stream",
     "text": [
      "Mean Squared Error: 0.0008009092416614294\n"
     ]
    }
   ],
   "source": [
    "# Evaluate the model on the testing data\n",
    "mse = model.evaluate(X_test, y_test, verbose=0)\n",
    "print('Mean Squared Error:', mse)"
   ]
  },
  {
   "cell_type": "code",
   "execution_count": 157,
   "metadata": {},
   "outputs": [],
   "source": [
    "# Save the trained model to a file\n",
    "model.save(f'{tickerSymbol.upper()}_model.h5')"
   ]
  },
  {
   "cell_type": "code",
   "execution_count": 158,
   "metadata": {},
   "outputs": [],
   "source": [
    "# # # # Load the saved model from a file\n",
    "# from keras.models import load_model\n",
    "# loaded_model = load_model('1yr_aapl_lstm_model.h5')\n"
   ]
  },
  {
   "cell_type": "code",
   "execution_count": 159,
   "metadata": {},
   "outputs": [
    {
     "name": "stdout",
     "output_type": "stream",
     "text": [
      "[[26.449299]\n",
      " [26.591433]\n",
      " [26.69293 ]\n",
      " [26.795994]\n",
      " [26.906559]\n",
      " [27.02605 ]\n",
      " [27.154652]\n",
      " [27.291834]\n",
      " [27.436707]\n",
      " [27.588202]\n",
      " [27.745243]\n",
      " [27.906796]\n",
      " [28.07191 ]\n",
      " [28.239729]\n",
      " [28.409468]\n",
      " [28.58042 ]\n",
      " [28.751917]\n",
      " [28.923351]\n",
      " [29.094131]\n",
      " [29.263687]\n",
      " [29.431484]\n",
      " [29.596996]\n",
      " [29.759743]\n",
      " [29.919254]\n",
      " [30.075111]\n",
      " [30.226933]\n",
      " [30.374372]\n",
      " [30.517138]\n",
      " [30.654995]\n",
      " [30.787758]\n",
      " [30.915277]\n",
      " [31.037481]\n",
      " [31.154322]\n",
      " [31.2658  ]\n",
      " [31.371965]\n",
      " [31.472889]\n",
      " [31.568686]\n",
      " [31.659475]\n",
      " [31.745422]\n",
      " [31.82669 ]\n",
      " [31.903458]\n",
      " [31.975903]\n",
      " [32.04422 ]\n",
      " [32.108612]\n",
      " [32.16926 ]\n",
      " [32.22635 ]\n",
      " [32.28007 ]\n",
      " [32.330612]\n",
      " [32.37814 ]\n",
      " [32.42282 ]\n",
      " [32.46482 ]\n",
      " [32.504288]\n",
      " [32.54137 ]\n",
      " [32.57621 ]\n",
      " [32.608944]\n",
      " [32.63968 ]\n",
      " [32.66855 ]\n",
      " [32.695667]\n",
      " [32.72113 ]\n",
      " [32.74505 ]\n",
      " [32.767506]\n",
      " [32.78859 ]\n",
      " [32.808388]\n",
      " [32.82698 ]\n",
      " [32.844437]\n",
      " [32.860825]\n",
      " [32.876217]\n",
      " [32.890667]\n",
      " [32.904232]\n",
      " [32.916973]\n",
      " [32.928936]\n",
      " [32.940163]\n",
      " [32.95071 ]\n",
      " [32.96061 ]\n",
      " [32.969906]\n",
      " [32.97863 ]\n",
      " [32.98682 ]\n",
      " [32.994514]\n",
      " [33.001743]\n",
      " [33.00853 ]\n",
      " [33.0149  ]\n",
      " [33.02088 ]\n",
      " [33.026493]\n",
      " [33.03177 ]\n",
      " [33.036716]\n",
      " [33.04137 ]\n",
      " [33.045734]\n",
      " [33.049835]\n",
      " [33.05368 ]\n",
      " [33.057293]]\n"
     ]
    }
   ],
   "source": [
    "from keras.models import load_model\n",
    "loaded_model = load_model('models1000\\\\_model.h5')\n",
    "# Define the ticker symbol\n",
    "tickerSymbol = 'HMC'\n",
    "\n",
    "# Get data on the ticker\n",
    "tickerData = yf.Ticker(tickerSymbol)\n",
    "\n",
    "# Get the historical prices for this ticker\n",
    "tickerDf = tickerData.history(period='1d', start='2015-01-01', end='2023-04-28')\n",
    "\n",
    "# Calculate the EMA with a window of 20 days\n",
    "ema = tickerDf['Close'].ewm(span=20, adjust=False).mean()\n",
    "\n",
    "# Merge the EMA with the original DataFrame\n",
    "tickerDf = pd.concat([tickerDf, ema.rename('EMA')], axis=1)\n",
    "\n",
    "# Define the feature and target variables\n",
    "data = tickerDf[['Close', 'EMA']]\n",
    "target = tickerDf['Close']\n",
    "\n",
    "# Normalize the data using MinMaxScaler\n",
    "scaler = MinMaxScaler(feature_range=(0, 1))\n",
    "data_scaled = scaler.fit_transform(data)\n",
    "\n",
    "# Predict future prices\n",
    "future_prices = []\n",
    "last_n_steps = data_scaled[-n_steps:]\n",
    "for i in range(90):  # predict 30 days in the future\n",
    "    future_price = model.predict(last_n_steps.reshape(1, n_steps, 2))\n",
    "    future_prices.append(future_price[0, 0])\n",
    "    last_n_steps = np.append(last_n_steps[1:], [[future_price[0, 0], future_price[0, 0]]], axis=0)\n",
    "\n",
    "# # Denormalize the predicted prices\n",
    "# future_prices = scaler.inverse_transform(np.array(future_prices).reshape(-1, 1))\n",
    "# Define the scaler object with the same feature range as before\n",
    "scaler = MinMaxScaler(feature_range=(0, 1))\n",
    "\n",
    "# Fit the scaler to the original target variable\n",
    "scaler.fit(tickerDf['Close'].values.reshape(-1, 1))\n",
    "\n",
    "# Denormalize the predicted prices using the scaler\n",
    "future_prices = scaler.inverse_transform(np.array(future_prices).reshape(-1, 1))\n",
    "# Print the predicted prices\n",
    "print(future_prices)\n",
    "\n"
   ]
  },
  {
   "cell_type": "code",
   "execution_count": 160,
   "metadata": {},
   "outputs": [
    {
     "data": {
      "text/plain": [
       "[26.449299,\n",
       " 26.591433,\n",
       " 26.69293,\n",
       " 26.795994,\n",
       " 26.906559,\n",
       " 27.02605,\n",
       " 27.154652,\n",
       " 27.291834,\n",
       " 27.436707,\n",
       " 27.588202,\n",
       " 27.745243,\n",
       " 27.906796,\n",
       " 28.07191,\n",
       " 28.239729,\n",
       " 28.409468,\n",
       " 28.58042,\n",
       " 28.751917,\n",
       " 28.923351,\n",
       " 29.094131,\n",
       " 29.263687,\n",
       " 29.431484,\n",
       " 29.596996,\n",
       " 29.759743,\n",
       " 29.919254,\n",
       " 30.075111,\n",
       " 30.226933,\n",
       " 30.374372,\n",
       " 30.517138,\n",
       " 30.654995,\n",
       " 30.787758,\n",
       " 30.915277,\n",
       " 31.037481,\n",
       " 31.154322,\n",
       " 31.2658,\n",
       " 31.371965,\n",
       " 31.472889,\n",
       " 31.568686,\n",
       " 31.659475,\n",
       " 31.745422,\n",
       " 31.82669,\n",
       " 31.903458,\n",
       " 31.975903,\n",
       " 32.04422,\n",
       " 32.108612,\n",
       " 32.16926,\n",
       " 32.22635,\n",
       " 32.28007,\n",
       " 32.330612,\n",
       " 32.37814,\n",
       " 32.42282,\n",
       " 32.46482,\n",
       " 32.504288,\n",
       " 32.54137,\n",
       " 32.57621,\n",
       " 32.608944,\n",
       " 32.63968,\n",
       " 32.66855,\n",
       " 32.695667,\n",
       " 32.72113,\n",
       " 32.74505,\n",
       " 32.767506,\n",
       " 32.78859,\n",
       " 32.808388,\n",
       " 32.82698,\n",
       " 32.844437,\n",
       " 32.860825,\n",
       " 32.876217,\n",
       " 32.890667,\n",
       " 32.904232,\n",
       " 32.916973,\n",
       " 32.928936,\n",
       " 32.940163,\n",
       " 32.95071,\n",
       " 32.96061,\n",
       " 32.969906,\n",
       " 32.97863,\n",
       " 32.98682,\n",
       " 32.994514,\n",
       " 33.001743,\n",
       " 33.00853,\n",
       " 33.0149,\n",
       " 33.02088,\n",
       " 33.026493,\n",
       " 33.03177,\n",
       " 33.036716,\n",
       " 33.04137,\n",
       " 33.045734,\n",
       " 33.049835,\n",
       " 33.05368,\n",
       " 33.057293]"
      ]
     },
     "execution_count": 160,
     "metadata": {},
     "output_type": "execute_result"
    }
   ],
   "source": [
    "[i for i in future_prices.flatten()]"
   ]
  },
  {
   "cell_type": "code",
   "execution_count": 161,
   "metadata": {},
   "outputs": [
    {
     "name": "stdout",
     "output_type": "stream",
     "text": [
      "{'tech': ['MSFT', 'NVDA', 'AAPL', 'AMZN', 'GOOGL', 'META'], 'pharma': ['AZN', 'RHHBY', 'NVS', 'BAYRY', 'SNY', 'PFE'], 'motor': ['TSLA', 'TM', 'MBGYY', 'F', 'GM', 'HMC']}\n"
     ]
    }
   ],
   "source": [
    "import json\n",
    "\n",
    "# Open the JSON file for reading\n",
    "with open('tickers.json', 'r') as f:\n",
    "    # Load the JSON data into a dictionary\n",
    "    data = json.load(f)\n",
    "\n",
    "# Now the data is a dictionary containing the contents of the JSON file\n",
    "print(data)\n"
   ]
  }
 ],
 "metadata": {
  "kernelspec": {
   "display_name": "Python 3",
   "language": "python",
   "name": "python3"
  },
  "language_info": {
   "codemirror_mode": {
    "name": "ipython",
    "version": 3
   },
   "file_extension": ".py",
   "mimetype": "text/x-python",
   "name": "python",
   "nbconvert_exporter": "python",
   "pygments_lexer": "ipython3",
   "version": "3.9.9"
  },
  "orig_nbformat": 4
 },
 "nbformat": 4,
 "nbformat_minor": 2
}
