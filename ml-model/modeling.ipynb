{
 "cells": [
  {
   "cell_type": "code",
   "execution_count": 1,
   "metadata": {},
   "outputs": [],
   "source": [
    "import yfinance as yf\n",
    "import pandas as pd\n",
    "import numpy as np\n",
    "from sklearn.preprocessing import MinMaxScaler\n",
    "from keras.models import Sequential\n",
    "from keras.layers import Dense, LSTM\n",
    "from matplotlib import pyplot as plt"
   ]
  },
  {
   "cell_type": "code",
   "execution_count": 2,
   "metadata": {},
   "outputs": [],
   "source": [
    "def make_models(tickerSymbol):\n",
    " \n",
    "\n",
    "    # Get data on the ticker\n",
    "    tickerData = yf.Ticker(tickerSymbol)\n",
    "\n",
    "    # Get the historical prices for this ticker\n",
    "    tickerDf = tickerData.history(period='1d', start='2015-01-01', end='2023-04-28')\n",
    "\n",
    "    # Calculate the EMA with a window of 20 days\n",
    "    ema = tickerDf['Close'].ewm(span=20, adjust=False).mean()\n",
    "\n",
    "    # Merge the EMA with the original DataFrame\n",
    "    tickerDf = pd.concat([tickerDf, ema.rename('EMA')], axis=1)\n",
    "\n",
    "    # Define the feature and target variables\n",
    "    data = tickerDf[['Close', 'EMA']]\n",
    "    target = tickerDf['Close']\n",
    "\n",
    "    # Normalize the data using MinMaxScaler\n",
    "    scaler = MinMaxScaler(feature_range=(0, 1))\n",
    "    data_scaled = scaler.fit_transform(data)\n",
    "\n",
    "\n",
    "    # Define the number of time steps for the LSTM model\n",
    "    n_steps = 1000\n",
    "\n",
    "    # Create a function to split the data into input/output samples\n",
    "    def prepare_data(data, n_steps):\n",
    "        X, y = [], []\n",
    "        for i in range(len(data)):\n",
    "            end_ix = i + n_steps\n",
    "            if end_ix > len(data)-1:\n",
    "                break\n",
    "            seq_x, seq_y = data[i:end_ix, :], data[end_ix, 0]\n",
    "            X.append(seq_x)\n",
    "            y.append(seq_y)\n",
    "        return np.array(X), np.array(y)\n",
    "\n",
    "    # Prepare the data for the LSTM model\n",
    "    X, y = prepare_data(data_scaled, n_steps)\n",
    "\n",
    "    # Split the data into training and testing sets\n",
    "    train_size = int(len(X) * 0.8)\n",
    "    X_train, X_test = X[:train_size], X[train_size:]\n",
    "    y_train, y_test = y[:train_size], y[train_size:]\n",
    "\n",
    "    # Define the LSTM model\n",
    "    model = Sequential()\n",
    "    model.add(LSTM(units=50, return_sequences=True, input_shape=(n_steps, 2)))\n",
    "    model.add(LSTM(units=50))\n",
    "    model.add(Dense(units=1))\n",
    "\n",
    "    # Compile the model\n",
    "    model.compile(optimizer='adam', loss='mean_squared_error')\n",
    "\n",
    "    # Fit the model to the training data\n",
    "    history = model.fit(X_train, y_train, epochs=50, batch_size=32, verbose=0)\n",
    "\n",
    "    # Evaluate the model on the testing data\n",
    "    mse = model.evaluate(X_test, y_test, verbose=0)\n",
    "    # list all data in history\n",
    "    print(history.history.keys())\n",
    "    # summarize history for accuracy\n",
    "    plt.plot(history.history['accuracy'])\n",
    "    plt.plot(history.history['val_accuracy'])\n",
    "    plt.title(f'{tickerSymbol} model accuracy')\n",
    "    plt.ylabel('accuracy')\n",
    "    plt.xlabel('epoch')\n",
    "    plt.legend(['train', 'test'], loc='upper left')\n",
    "    plt.show()\n",
    "    plt.savefig(f'{tickerSymbol}_model_accuracy.png')\n",
    "    # summarize history for loss\n",
    "    plt.plot(history.history['loss'])\n",
    "    plt.plot(history.history['val_loss'])\n",
    "    plt.title(f'{tickerSymbol} model loss')\n",
    "    plt.ylabel('loss')\n",
    "    plt.xlabel('epoch')\n",
    "    plt.legend(['train', 'test'], loc='upper left')\n",
    "    plt.show()\n",
    "    plt.savefig(f'{tickerSymbol}_model_loss.png')\n",
    "    print('Mean Squared Error:', mse)\n",
    "\n",
    "    # Save the trained model to a file\n",
    "    model.save(f'models1000\\\\{tickerSymbol.upper()}_model.h5')"
   ]
  },
  {
   "cell_type": "code",
   "execution_count": 3,
   "metadata": {},
   "outputs": [
    {
     "name": "stdout",
     "output_type": "stream",
     "text": [
      "dict_keys(['loss'])\n"
     ]
    },
    {
     "ename": "KeyError",
     "evalue": "'accuracy'",
     "output_type": "error",
     "traceback": [
      "\u001b[1;31m---------------------------------------------------------------------------\u001b[0m",
      "\u001b[1;31mKeyError\u001b[0m                                  Traceback (most recent call last)",
      "Cell \u001b[1;32mIn[3], line 4\u001b[0m\n\u001b[0;32m      2\u001b[0m tickers \u001b[39m=\u001b[39m [\u001b[39m'\u001b[39m\u001b[39mAAPL\u001b[39m\u001b[39m'\u001b[39m]\n\u001b[0;32m      3\u001b[0m \u001b[39mfor\u001b[39;00m ticker \u001b[39min\u001b[39;00m tickers:\n\u001b[1;32m----> 4\u001b[0m     make_models(ticker)\n",
      "Cell \u001b[1;32mIn[2], line 65\u001b[0m, in \u001b[0;36mmake_models\u001b[1;34m(tickerSymbol)\u001b[0m\n\u001b[0;32m     63\u001b[0m \u001b[39mprint\u001b[39m(history\u001b[39m.\u001b[39mhistory\u001b[39m.\u001b[39mkeys())\n\u001b[0;32m     64\u001b[0m \u001b[39m# summarize history for accuracy\u001b[39;00m\n\u001b[1;32m---> 65\u001b[0m plt\u001b[39m.\u001b[39mplot(history\u001b[39m.\u001b[39;49mhistory[\u001b[39m'\u001b[39;49m\u001b[39maccuracy\u001b[39;49m\u001b[39m'\u001b[39;49m])\n\u001b[0;32m     66\u001b[0m plt\u001b[39m.\u001b[39mplot(history\u001b[39m.\u001b[39mhistory[\u001b[39m'\u001b[39m\u001b[39mval_accuracy\u001b[39m\u001b[39m'\u001b[39m])\n\u001b[0;32m     67\u001b[0m plt\u001b[39m.\u001b[39mtitle(\u001b[39mf\u001b[39m\u001b[39m'\u001b[39m\u001b[39m{\u001b[39;00mtickerSymbol\u001b[39m}\u001b[39;00m\u001b[39m model accuracy\u001b[39m\u001b[39m'\u001b[39m)\n",
      "\u001b[1;31mKeyError\u001b[0m: 'accuracy'"
     ]
    }
   ],
   "source": [
    "# tickers = [\"AZN\",\"RHHBY\",\"NVS\",\"BAYRY\",\"SNY\",\"PFE\"]\n",
    "tickers = ['AAPL']\n",
    "for ticker in tickers:\n",
    "    make_models(ticker)"
   ]
  },
  {
   "cell_type": "code",
   "execution_count": 4,
   "metadata": {},
   "outputs": [],
   "source": [
    "tickers = ['AAPL']    \n",
    "# Get data on the ticker\n",
    "tickerData = yf.Ticker(tickers[0])\n",
    "\n",
    "# Get the historical prices for this ticker\n",
    "tickerDf = tickerData.history(period='1d', start='2015-01-01', end='2023-04-28')\n",
    "\n",
    "# Calculate the EMA with a window of 20 days\n",
    "ema = tickerDf['Close'].ewm(span=20, adjust=False).mean()\n",
    "\n",
    "# Merge the EMA with the original DataFrame\n",
    "tickerDf = pd.concat([tickerDf, ema.rename('EMA')], axis=1)\n",
    "\n",
    "# Define the feature and target variables\n",
    "data = tickerDf[['Close', 'EMA']]\n",
    "target = tickerDf['Close']\n",
    "\n",
    "# Normalize the data using MinMaxScaler\n",
    "scaler = MinMaxScaler(feature_range=(0, 1))\n",
    "data_scaled = scaler.fit_transform(data)\n",
    "\n",
    "\n",
    "# Define the number of time steps for the LSTM model\n",
    "n_steps = 1000\n",
    "\n",
    "# Create a function to split the data into input/output samples\n",
    "def prepare_data(data, n_steps):\n",
    "    X, y = [], []\n",
    "    for i in range(len(data)):\n",
    "        end_ix = i + n_steps\n",
    "        if end_ix > len(data)-1:\n",
    "            break\n",
    "        seq_x, seq_y = data[i:end_ix, :], data[end_ix, 0]\n",
    "        X.append(seq_x)\n",
    "        y.append(seq_y)\n",
    "    return np.array(X), np.array(y)\n",
    "\n",
    "# Prepare the data for the LSTM model\n",
    "X, y = prepare_data(data_scaled, n_steps)\n",
    "\n",
    "# Split the data into training and testing sets\n",
    "train_size = int(len(X) * 0.8)\n",
    "X_train, X_test = X[:train_size], X[train_size:]\n",
    "y_train, y_test = y[:train_size], y[train_size:]\n",
    "\n",
    "# Define the LSTM model\n",
    "model = Sequential()\n",
    "model.add(LSTM(units=50, return_sequences=True, input_shape=(n_steps, 2)))\n",
    "model.add(LSTM(units=50))\n",
    "model.add(Dense(units=1))\n",
    "\n",
    "# Compile the model\n",
    "model.compile(optimizer='adam', loss='mean_squared_error')\n",
    "\n",
    "# Fit the model to the training data\n",
    "history = model.fit(X_train, y_train, epochs=50, batch_size=32, verbose=0)\n",
    "\n",
    "# Evaluate the model on the testing data\n",
    "mse = model.evaluate(X_test, y_test, verbose=0)"
   ]
  },
  {
   "cell_type": "code",
   "execution_count": 8,
   "metadata": {},
   "outputs": [
    {
     "data": {
      "image/png": "[encoded data removed]",
      "text/plain": [
       "<Figure size 640x480 with 1 Axes>"
      ]
     },
     "metadata": {},
     "output_type": "display_data"
    },
    {
     "name": "stdout",
     "output_type": "stream",
     "text": [
      "Mean Squared Error: 0.0005902732955291867\n"
     ]
    },
    {
     "data": {
      "text/plain": [
       "<Figure size 640x480 with 0 Axes>"
      ]
     },
     "metadata": {},
     "output_type": "display_data"
    }
   ],
   "source": [
    "plt.plot(history.history['loss'])\n",
    "plt\n",
    "plt.title(f'{tickers[0]} model loss')\n",
    "plt.ylabel('loss')\n",
    "plt.xlabel('epoch')\n",
    "plt.legend(['train', 'test'], loc='upper left')\n",
    "plt.show()\n",
    "plt.savefig(f'{tickers[0]}_model_loss.png')\n",
    "print('Mean Squared Error:', mse)"
   ]
  },
  {
   "cell_type": "code",
   "execution_count": 11,
   "metadata": {},
   "outputs": [
    {
     "name": "stdout",
     "output_type": "stream",
     "text": [
      "{'loss': [0.05120593681931496, 0.002939970465376973, 0.0013426064979285002, 0.0011616087285801768, 0.0011390222935006022, 0.0010948197450488806, 0.00108234491199255, 0.001057006069459021, 0.0009511772077530622, 0.0009285543346777558, 0.0008167937048710883, 0.0008083822904154658, 0.0008141559665091336, 0.0007709315977990627, 0.0007708353805355728, 0.000664671475533396, 0.0006484041805379093, 0.0006685735424980521, 0.0007755256956443191, 0.0006148569518700242, 0.0006217424524948001, 0.000586166512221098, 0.0005702672642655671, 0.0006037210114300251, 0.0006962298648431897, 0.000517893407959491, 0.0005261078476905823, 0.0005017903749831021, 0.0006059472798369825, 0.0004988665459677577, 0.000476538814837113, 0.0005556842079386115, 0.0005010704626329243, 0.00046049582306295633, 0.0005793881136924028, 0.0005657313158735633, 0.0004987205029465258, 0.000517406384460628, 0.0005164990434423089, 0.00047797997831366956, 0.0004312638775445521, 0.00040374507079832256, 0.00042803375981748104, 0.0004363499756436795, 0.00038531937752850354, 0.0004047249676659703, 0.0003855429822579026, 0.000373557151760906, 0.0003858704003505409, 0.0003953545237891376]}\n"
     ]
    }
   ],
   "source": [
    "print(history.history)\n",
    "print(mse)"
   ]
  }
 ],
 "metadata": {
  "kernelspec": {
   "display_name": "venv",
   "language": "python",
   "name": "python3"
  },
  "language_info": {
   "codemirror_mode": {
    "name": "ipython",
    "version": 3
   },
   "file_extension": ".py",
   "mimetype": "text/x-python",
   "name": "python",
   "nbconvert_exporter": "python",
   "pygments_lexer": "ipython3",
   "version": "3.9.9"
  },
  "orig_nbformat": 4
 },
 "nbformat": 4,
 "nbformat_minor": 2
}
